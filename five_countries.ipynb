{
 "cells": [
  {
   "cell_type": "code",
   "execution_count": 1,
   "metadata": {
    "collapsed": true
   },
   "outputs": [],
   "source": [
    "import random\n",
    "import pandas as pd\n",
    "from bokeh.layouts import column\n",
    "from bokeh.plotting import figure, output_file, show\n",
    "from bokeh.models import HoverTool,ColumnDataSource\n",
    "from bokeh.models.callbacks import CustomJS\n",
    "from bokeh.layouts import widgetbox,layout\n",
    "from bokeh.models.widgets import Panel,Tabs,Dropdown\n",
    "import numpy as np"
   ]
  },
  {
   "cell_type": "code",
   "execution_count": 2,
   "metadata": {
    "collapsed": true
   },
   "outputs": [],
   "source": [
    "unemploy_df = pd.read_excel('indicator_t 15-24 unemploy.xlsx',na_values=[''])\n",
    "\n",
    "year_range=[i for i in range(1981,2006)]\n",
    "zeros = np.zeros(len(year_range))\n",
    "\n",
    "country_wise=[]\n",
    "country_names=[]\n",
    "for i in range(0,unemploy_df.shape[0]):\n",
    "    country_wise.append(unemploy_df.iloc[i])\n",
    "\n",
    "for i in range(0,unemploy_df.shape[0]):\n",
    "    country_names.append(country_wise[i][0:1][0])\n",
    "\n",
    "for i in range(len(country_wise)):\n",
    "    country_wise[i]=[x for x in country_wise[i][1:]]\n",
    "    for j in range(len(country_wise[i])):\n",
    "        if str(country_wise[i][j])=='nan':\n",
    "            country_wise[i][j]=float('nan')\n",
    "\n"
   ]
  },
  {
   "cell_type": "code",
   "execution_count": 3,
   "metadata": {
    "collapsed": true
   },
   "outputs": [],
   "source": [
    "australia_df=np.array(country_wise[0][:])\n",
    "estonia_df=np.array(country_wise[3][:])\n",
    "france_df=np.array(country_wise[5][:])\n",
    "singapore_df=np.array(country_wise[20][:])\n",
    "usa_df=np.array(country_wise[28][:])"
   ]
  },
  {
   "cell_type": "code",
   "execution_count": 4,
   "metadata": {
    "collapsed": true
   },
   "outputs": [],
   "source": [
    "hover=HoverTool(tooltips=[(\"index\",\"$index\"),(\"(x,y)\",\"($x,$y)\")])\n",
    "\n",
    "output_file(\"five_countries.html\")\n",
    "p = figure(plot_width=1000, plot_height=800,tools=[hover,'pan','wheel_zoom','box_zoom','box_select'],title=\"Unemployed people within age 15-24 in 5 countries\",x_axis_label=\"Year...\",y_axis_label=\"% of population unemployed\")\n"
   ]
  },
  {
   "cell_type": "code",
   "execution_count": 5,
   "metadata": {
    "collapsed": true
   },
   "outputs": [],
   "source": [
    "source1 = ColumnDataSource(data=dict(x=year_range, y = australia_df, y_full = australia_df, y_zeros = zeros))\n",
    "source2 = ColumnDataSource(data=dict(x=year_range, y = estonia_df, y_full = estonia_df, y_zeros = zeros))\n",
    "source3 = ColumnDataSource(data=dict(x=year_range, y = france_df, y_full = france_df, y_zeros = zeros))\n",
    "source4 = ColumnDataSource(data=dict(x=year_range, y = singapore_df, y_full = singapore_df, y_zeros = zeros))\n",
    "source5 = ColumnDataSource(data=dict(x=year_range, y = usa_df, y_full = usa_df, y_zeros = zeros))"
   ]
  },
  {
   "cell_type": "code",
   "execution_count": 6,
   "metadata": {},
   "outputs": [
    {
     "data": {
      "text/html": [
       "<div style=\"display: table;\"><div style=\"display: table-row;\"><div style=\"display: table-cell;\"><b title=\"bokeh.models.renderers.GlyphRenderer\">GlyphRenderer</b>(</div><div style=\"display: table-cell;\">id&nbsp;=&nbsp;'31733032-57ef-4d82-aacf-2aa37363d4a2', <span id=\"5a690451-469c-4ab2-8f31-da7b7366676b\" style=\"cursor: pointer;\">&hellip;)</span></div></div><div class=\"7330990d-51b2-48f2-aaaf-1e4816c17069\" style=\"display: none;\"><div style=\"display: table-cell;\"></div><div style=\"display: table-cell;\">data_source&nbsp;=&nbsp;ColumnDataSource(id='fc12e858-f107-4e2a-bfac-834282d88156', ...),</div></div><div class=\"7330990d-51b2-48f2-aaaf-1e4816c17069\" style=\"display: none;\"><div style=\"display: table-cell;\"></div><div style=\"display: table-cell;\">glyph&nbsp;=&nbsp;Line(id='8d65bfe5-a5e0-4b8e-80e6-514985e3944a', ...),</div></div><div class=\"7330990d-51b2-48f2-aaaf-1e4816c17069\" style=\"display: none;\"><div style=\"display: table-cell;\"></div><div style=\"display: table-cell;\">hover_glyph&nbsp;=&nbsp;None,</div></div><div class=\"7330990d-51b2-48f2-aaaf-1e4816c17069\" style=\"display: none;\"><div style=\"display: table-cell;\"></div><div style=\"display: table-cell;\">js_event_callbacks&nbsp;=&nbsp;{},</div></div><div class=\"7330990d-51b2-48f2-aaaf-1e4816c17069\" style=\"display: none;\"><div style=\"display: table-cell;\"></div><div style=\"display: table-cell;\">js_property_callbacks&nbsp;=&nbsp;{},</div></div><div class=\"7330990d-51b2-48f2-aaaf-1e4816c17069\" style=\"display: none;\"><div style=\"display: table-cell;\"></div><div style=\"display: table-cell;\">level&nbsp;=&nbsp;'glyph',</div></div><div class=\"7330990d-51b2-48f2-aaaf-1e4816c17069\" style=\"display: none;\"><div style=\"display: table-cell;\"></div><div style=\"display: table-cell;\">muted&nbsp;=&nbsp;False,</div></div><div class=\"7330990d-51b2-48f2-aaaf-1e4816c17069\" style=\"display: none;\"><div style=\"display: table-cell;\"></div><div style=\"display: table-cell;\">muted_glyph&nbsp;=&nbsp;None,</div></div><div class=\"7330990d-51b2-48f2-aaaf-1e4816c17069\" style=\"display: none;\"><div style=\"display: table-cell;\"></div><div style=\"display: table-cell;\">name&nbsp;=&nbsp;None,</div></div><div class=\"7330990d-51b2-48f2-aaaf-1e4816c17069\" style=\"display: none;\"><div style=\"display: table-cell;\"></div><div style=\"display: table-cell;\">nonselection_glyph&nbsp;=&nbsp;Line(id='ed40488a-bb6c-434a-9b18-70213247420e', ...),</div></div><div class=\"7330990d-51b2-48f2-aaaf-1e4816c17069\" style=\"display: none;\"><div style=\"display: table-cell;\"></div><div style=\"display: table-cell;\">selection_glyph&nbsp;=&nbsp;None,</div></div><div class=\"7330990d-51b2-48f2-aaaf-1e4816c17069\" style=\"display: none;\"><div style=\"display: table-cell;\"></div><div style=\"display: table-cell;\">subscribed_events&nbsp;=&nbsp;[],</div></div><div class=\"7330990d-51b2-48f2-aaaf-1e4816c17069\" style=\"display: none;\"><div style=\"display: table-cell;\"></div><div style=\"display: table-cell;\">tags&nbsp;=&nbsp;[],</div></div><div class=\"7330990d-51b2-48f2-aaaf-1e4816c17069\" style=\"display: none;\"><div style=\"display: table-cell;\"></div><div style=\"display: table-cell;\">view&nbsp;=&nbsp;CDSView(id='c8e0a182-f898-4d7d-a1fa-eae78ae3fb09', ...),</div></div><div class=\"7330990d-51b2-48f2-aaaf-1e4816c17069\" style=\"display: none;\"><div style=\"display: table-cell;\"></div><div style=\"display: table-cell;\">visible&nbsp;=&nbsp;True,</div></div><div class=\"7330990d-51b2-48f2-aaaf-1e4816c17069\" style=\"display: none;\"><div style=\"display: table-cell;\"></div><div style=\"display: table-cell;\">x_range_name&nbsp;=&nbsp;'default',</div></div><div class=\"7330990d-51b2-48f2-aaaf-1e4816c17069\" style=\"display: none;\"><div style=\"display: table-cell;\"></div><div style=\"display: table-cell;\">y_range_name&nbsp;=&nbsp;'default')</div></div></div>\n",
       "<script>\n",
       "(function() {\n",
       "  var expanded = false;\n",
       "  var ellipsis = document.getElementById(\"5a690451-469c-4ab2-8f31-da7b7366676b\");\n",
       "  ellipsis.addEventListener(\"click\", function() {\n",
       "    var rows = document.getElementsByClassName(\"7330990d-51b2-48f2-aaaf-1e4816c17069\");\n",
       "    for (var i = 0; i < rows.length; i++) {\n",
       "      var el = rows[i];\n",
       "      el.style.display = expanded ? \"none\" : \"table-row\";\n",
       "    }\n",
       "    ellipsis.innerHTML = expanded ? \"&hellip;)\" : \"&lsaquo;&lsaquo;&lsaquo;\";\n",
       "    expanded = !expanded;\n",
       "  });\n",
       "})();\n",
       "</script>\n"
      ],
      "text/plain": [
       "GlyphRenderer(id='31733032-57ef-4d82-aacf-2aa37363d4a2', ...)"
      ]
     },
     "execution_count": 6,
     "metadata": {},
     "output_type": "execute_result"
    }
   ],
   "source": [
    "color1=(random.randrange(0,256),random.randrange(0,256),random.randrange(0,256))\n",
    "color2=(random.randrange(0,256),random.randrange(0,256),random.randrange(0,256))\n",
    "color3=(random.randrange(0,256),random.randrange(0,256),random.randrange(0,256))\n",
    "color4=(random.randrange(0,256),random.randrange(0,256),random.randrange(0,256))\n",
    "color5=(random.randrange(0,256),random.randrange(0,256),random.randrange(0,256))\n",
    "\n",
    "p.line(x ='x', y ='y', source = source1,color=color1,line_width=2,legend='Australia')\n",
    "p.line(x ='x', y ='y', source = source2,color=color2,line_width=2,legend='Estonia')\n",
    "p.line(x ='x', y ='y', source = source3,color=color3,line_width=2,legend='France')\n",
    "p.line(x ='x', y ='y', source = source4,color=color4,line_width=2,legend='Singapore')\n",
    "p.line(x ='x', y ='y', source = source5,color=color5,line_width=2,legend='USA')"
   ]
  },
  {
   "cell_type": "code",
   "execution_count": 7,
   "metadata": {
    "collapsed": true
   },
   "outputs": [],
   "source": [
    "update_curve=CustomJS(args={'source1': source1,'source2': source2,'source3': source3,'source4': source4,'source5': source5}, code=\"\"\"\n",
    "\tvar f = cb_obj.get('value');\n",
    "\tvar data1 = source1.get('data');\n",
    "    var data2 = source2.get('data');\n",
    "    var data3 = source3.get('data');\n",
    "    var data4 = source4.get('data');\n",
    "    var data5 = source5.get('data');\n",
    "    if(f=='australia_df'){\n",
    "    \tdata2['y']=data2['y_zeros'];\n",
    "    \tdata3['y']=data3['y_zeros'];\n",
    "    \tdata4['y']=data4['y_zeros'];\n",
    "    \tdata5['y']=data5['y_zeros'];\n",
    "    \tdata1['y']=data1['y_full'];\n",
    "    \tsource1.trigger('change');\n",
    "    \tsource2.trigger('change');\n",
    "    \tsource3.trigger('change');\n",
    "    \tsource4.trigger('change');\n",
    "    \tsource5.trigger('change');\n",
    "    }\n",
    "    if(f=='estonia_df'){\n",
    "    \tdata1['y']=data1['y_zeros'];\n",
    "    \tdata3['y']=data3['y_zeros'];\n",
    "    \tdata4['y']=data4['y_zeros'];\n",
    "    \tdata5['y']=data5['y_zeros'];\n",
    "    \tdata2['y']=data2['y_full'];\n",
    "    \tsource1.trigger('change');\n",
    "    \tsource2.trigger('change');\n",
    "    \tsource3.trigger('change');\n",
    "    \tsource4.trigger('change');\n",
    "    \tsource5.trigger('change');\n",
    "    }\n",
    "    if(f=='france_df'){\n",
    "    \tdata1['y']=data1['y_zeros'];\n",
    "    \tdata2['y']=data2['y_zeros'];\n",
    "    \tdata4['y']=data4['y_zeros'];\n",
    "    \tdata5['y']=data5['y_zeros'];\n",
    "    \tdata3['y']=data3['y_full'];\n",
    "    \tsource1.trigger('change');\n",
    "    \tsource2.trigger('change');\n",
    "    \tsource3.trigger('change');\n",
    "    \tsource4.trigger('change');\n",
    "    \tsource5.trigger('change');\n",
    "    }\n",
    "    if(f=='france_df'){\n",
    "    \tdata1['y']=data1['y_zeros'];\n",
    "    \tdata2['y']=data2['y_zeros'];\n",
    "    \tdata3['y']=data3['y_zeros'];\n",
    "    \tdata5['y']=data5['y_zeros'];\n",
    "    \tdata4['y']=data4['y_full'];\n",
    "    \tsource1.trigger('change');\n",
    "    \tsource2.trigger('change');\n",
    "    \tsource3.trigger('change');\n",
    "    \tsource4.trigger('change');\n",
    "    \tsource5.trigger('change');\n",
    "    }\n",
    "    if(f=='usa_df'){\n",
    "    \tdata1['y']=data1['y_zeros'];\n",
    "    \tdata2['y']=data2['y_zeros'];\n",
    "    \tdata3['y']=data3['y_zeros'];\n",
    "    \tdata4['y']=data4['y_zeros'];\n",
    "    \tdata5['y']=data5['y_full'];\n",
    "    \tsource1.trigger('change');\n",
    "    \tsource2.trigger('change');\n",
    "    \tsource3.trigger('change');\n",
    "    \tsource4.trigger('change');\n",
    "    \tsource5.trigger('change');\n",
    "    }\n",
    "\"\"\")"
   ]
  },
  {
   "cell_type": "code",
   "execution_count": 8,
   "metadata": {
    "collapsed": true
   },
   "outputs": [],
   "source": [
    "menu = [(\"Australia\", \"australia_df\"), (\"Estonia\",\"estonia_df\"),(\"France\", \"france_df\"), (\"Singapore\",\"singapore_df\"), (\"United States\", \"usa_df\")]\n",
    "dropdown = Dropdown(label=\"Select country\", button_type=\"warning\", menu=menu,callback = update_curve)\n",
    "layout = column(dropdown, p)\n",
    "\n",
    "show(layout)"
   ]
  },
  {
   "cell_type": "code",
   "execution_count": null,
   "metadata": {
    "collapsed": true
   },
   "outputs": [],
   "source": []
  }
 ],
 "metadata": {
  "kernelspec": {
   "display_name": "Python 2",
   "language": "python",
   "name": "python2"
  },
  "language_info": {
   "codemirror_mode": {
    "name": "ipython",
    "version": 2
   },
   "file_extension": ".py",
   "mimetype": "text/x-python",
   "name": "python",
   "nbconvert_exporter": "python",
   "pygments_lexer": "ipython2",
   "version": "2.7.6"
  }
 },
 "nbformat": 4,
 "nbformat_minor": 2
}
