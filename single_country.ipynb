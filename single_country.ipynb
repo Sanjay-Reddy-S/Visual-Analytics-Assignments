{
 "cells": [
  {
   "cell_type": "code",
   "execution_count": 1,
   "metadata": {
    "collapsed": true
   },
   "outputs": [],
   "source": [
    "import pandas as pd\n",
    "from math import pi\n",
    "from bokeh.io import show\n",
    "from bokeh.models import (\n",
    "    ColumnDataSource,\n",
    "    HoverTool,\n",
    "    LinearColorMapper,\n",
    "    BasicTicker,\n",
    "    PrintfTickFormatter,\n",
    "    ColorBar,\n",
    ")\n",
    "from bokeh.plotting import figure\n",
    "from bokeh.sampledata.unemployment1948 import data"
   ]
  },
  {
   "cell_type": "code",
   "execution_count": 2,
   "metadata": {
    "collapsed": true
   },
   "outputs": [],
   "source": [
    "colors = [\"#75968f\", \"#a5bab7\", \"#c9d9d3\", \"#e2e2e2\", \"#dfccce\", \"#ddb7b1\", \"#cc7878\", \"#933b41\", \"#550b1d\"]\n",
    "unemploy_df = pd.read_excel('Untitled spreadsheet.xlsx',na_values=[''])\n",
    "unemploy_df['Total 15-24 unemployment (%)'] = unemploy_df['Total 15-24 unemployment (%)'].astype(str)\n",
    "unemploy_df=unemploy_df.set_index('Total 15-24 unemployment (%)')\n",
    "unemploy_df.columns.name='Countries'\n",
    "Years=list(unemploy_df.index)\n",
    "countries=list(unemploy_df.columns)\n",
    "df_df=pd.DataFrame(unemploy_df.stack(), columns=['rate']).reset_index()\n",
    "mapper2 = LinearColorMapper(palette=colors, low=df_df.rate.min(), high=df_df.rate.max())"
   ]
  },
  {
   "cell_type": "code",
   "execution_count": 3,
   "metadata": {
    "collapsed": true
   },
   "outputs": [],
   "source": [
    "source2 = ColumnDataSource(df_df)\n",
    "TOOLS = \"hover,save,pan,box_zoom,reset,wheel_zoom\"\n",
    "\n",
    "#p1 = figure(title=\"US Unemployment ({0} - {1})\".format(years[0], years[-1]),x_range=years, y_range=list(reversed(months)),x_axis_location=\"above\", plot_width=900, plot_height=400,tools=TOOLS, toolbar_location='below')\n",
    "p2 = figure(title=\"US Unemployment (Hover for values)\",x_range=Years,y_range=countries,x_axis_location=\"above\",plot_width=900, plot_height=400,tools=TOOLS, toolbar_location='below')\n",
    "\n",
    "p2.grid.grid_line_color = None\n",
    "p2.axis.axis_line_color = None\n",
    "p2.axis.major_tick_line_color = None\n",
    "p2.axis.major_label_text_font_size = \"5pt\"\n",
    "p2.axis.major_label_standoff = 0\n",
    "p2.xaxis.major_label_orientation = pi / 3\n"
   ]
  },
  {
   "cell_type": "code",
   "execution_count": 4,
   "metadata": {
    "collapsed": true
   },
   "outputs": [],
   "source": [
    "\n",
    "p2.rect(x=\"Total 15-24 unemployment (%)\", y=\"Countries\", width=1, height=1,source=source2,fill_color={'field': 'rate', 'transform': mapper2},line_color=None)\n",
    "\n",
    "\n",
    "color_bar2= ColorBar(color_mapper=mapper2, major_label_text_font_size=\"5pt\",ticker=BasicTicker(desired_num_ticks=len(colors)),formatter=PrintfTickFormatter(format=\"%d%%\"),label_standoff=6, border_line_color=None, location=(0, 0))\n",
    "\n",
    "\n",
    "p2.add_layout(color_bar2, 'right')\n",
    "\n",
    "p2.select_one(HoverTool).tooltips = [\n",
    "     ('date', '@Countries @{Total 15-24 unemployment (%)}'),\n",
    "     ('rate', '@rate%'),\n",
    "]\n",
    "\n",
    "show(p2)\n"
   ]
  },
  {
   "cell_type": "code",
   "execution_count": null,
   "metadata": {
    "collapsed": true
   },
   "outputs": [],
   "source": []
  }
 ],
 "metadata": {
  "kernelspec": {
   "display_name": "Python 3",
   "language": "python",
   "name": "python3"
  },
  "language_info": {
   "codemirror_mode": {
    "name": "ipython",
    "version": 3
   },
   "file_extension": ".py",
   "mimetype": "text/x-python",
   "name": "python",
   "nbconvert_exporter": "python",
   "pygments_lexer": "ipython3",
   "version": "3.4.0"
  }
 },
 "nbformat": 4,
 "nbformat_minor": 2
}
