{
 "cells": [
  {
   "cell_type": "code",
   "execution_count": 1,
   "metadata": {
    "collapsed": true
   },
   "outputs": [],
   "source": [
    "from bokeh.layouts import row\n",
    "from bokeh.plotting import figure, show, output_file\n",
    "import pandas as pd"
   ]
  },
  {
   "cell_type": "code",
   "execution_count": 2,
   "metadata": {},
   "outputs": [],
   "source": [
    "unemploy_df = pd.read_excel('Untitled spreadsheet.xlsx',na_values=[''])\n",
    "unemploy_df['Total 15-24 unemployment (%)'] = unemploy_df['Total 15-24 unemployment (%)'].astype(str)\n",
    "unemploy_df=unemploy_df.set_index('Total 15-24 unemployment (%)')\n",
    "unemploy_df.columns.name='Countries'\n",
    "Years=list(unemploy_df.index)\n",
    "countries=list(unemploy_df.columns)"
   ]
  },
  {
   "cell_type": "code",
   "execution_count": 4,
   "metadata": {},
   "outputs": [],
   "source": [
    "x=[]\n",
    "for i in unemploy_df.iloc[-1]:\n",
    "\tx.append(i)\n",
    "\n",
    "for j in range(len(x)):\n",
    "\tif str(x[j])=='nan':\n",
    "\t\tx[j]=float('nan')\n"
   ]
  },
  {
   "cell_type": "code",
   "execution_count": 5,
   "metadata": {},
   "outputs": [
    {
     "data": {
      "text/html": [
       "<div style=\"display: table;\"><div style=\"display: table-row;\"><div style=\"display: table-cell;\"><b title=\"bokeh.models.renderers.GlyphRenderer\">GlyphRenderer</b>(</div><div style=\"display: table-cell;\">id&nbsp;=&nbsp;'0f03635a-40bc-4be7-8752-463ae6b22073', <span id=\"cb2b8742-ffce-4a6e-ad20-2ca3f7399b7e\" style=\"cursor: pointer;\">&hellip;)</span></div></div><div class=\"e4413300-fdbc-44ab-9ece-6df5cd415352\" style=\"display: none;\"><div style=\"display: table-cell;\"></div><div style=\"display: table-cell;\">data_source&nbsp;=&nbsp;ColumnDataSource(id='7ebe93b6-d094-4954-a111-2a4c06c38548', ...),</div></div><div class=\"e4413300-fdbc-44ab-9ece-6df5cd415352\" style=\"display: none;\"><div style=\"display: table-cell;\"></div><div style=\"display: table-cell;\">glyph&nbsp;=&nbsp;Circle(id='4c91c225-e78c-4474-91f3-95ebad5a6b8a', ...),</div></div><div class=\"e4413300-fdbc-44ab-9ece-6df5cd415352\" style=\"display: none;\"><div style=\"display: table-cell;\"></div><div style=\"display: table-cell;\">hover_glyph&nbsp;=&nbsp;None,</div></div><div class=\"e4413300-fdbc-44ab-9ece-6df5cd415352\" style=\"display: none;\"><div style=\"display: table-cell;\"></div><div style=\"display: table-cell;\">js_event_callbacks&nbsp;=&nbsp;{},</div></div><div class=\"e4413300-fdbc-44ab-9ece-6df5cd415352\" style=\"display: none;\"><div style=\"display: table-cell;\"></div><div style=\"display: table-cell;\">js_property_callbacks&nbsp;=&nbsp;{},</div></div><div class=\"e4413300-fdbc-44ab-9ece-6df5cd415352\" style=\"display: none;\"><div style=\"display: table-cell;\"></div><div style=\"display: table-cell;\">level&nbsp;=&nbsp;'glyph',</div></div><div class=\"e4413300-fdbc-44ab-9ece-6df5cd415352\" style=\"display: none;\"><div style=\"display: table-cell;\"></div><div style=\"display: table-cell;\">muted&nbsp;=&nbsp;False,</div></div><div class=\"e4413300-fdbc-44ab-9ece-6df5cd415352\" style=\"display: none;\"><div style=\"display: table-cell;\"></div><div style=\"display: table-cell;\">muted_glyph&nbsp;=&nbsp;None,</div></div><div class=\"e4413300-fdbc-44ab-9ece-6df5cd415352\" style=\"display: none;\"><div style=\"display: table-cell;\"></div><div style=\"display: table-cell;\">name&nbsp;=&nbsp;None,</div></div><div class=\"e4413300-fdbc-44ab-9ece-6df5cd415352\" style=\"display: none;\"><div style=\"display: table-cell;\"></div><div style=\"display: table-cell;\">nonselection_glyph&nbsp;=&nbsp;Circle(id='549063d3-d850-4b35-8d8d-e9a8db5b4f4c', ...),</div></div><div class=\"e4413300-fdbc-44ab-9ece-6df5cd415352\" style=\"display: none;\"><div style=\"display: table-cell;\"></div><div style=\"display: table-cell;\">selection_glyph&nbsp;=&nbsp;None,</div></div><div class=\"e4413300-fdbc-44ab-9ece-6df5cd415352\" style=\"display: none;\"><div style=\"display: table-cell;\"></div><div style=\"display: table-cell;\">subscribed_events&nbsp;=&nbsp;[],</div></div><div class=\"e4413300-fdbc-44ab-9ece-6df5cd415352\" style=\"display: none;\"><div style=\"display: table-cell;\"></div><div style=\"display: table-cell;\">tags&nbsp;=&nbsp;[],</div></div><div class=\"e4413300-fdbc-44ab-9ece-6df5cd415352\" style=\"display: none;\"><div style=\"display: table-cell;\"></div><div style=\"display: table-cell;\">view&nbsp;=&nbsp;CDSView(id='212948f9-9568-49ad-ae18-0c498b73e7e3', ...),</div></div><div class=\"e4413300-fdbc-44ab-9ece-6df5cd415352\" style=\"display: none;\"><div style=\"display: table-cell;\"></div><div style=\"display: table-cell;\">visible&nbsp;=&nbsp;True,</div></div><div class=\"e4413300-fdbc-44ab-9ece-6df5cd415352\" style=\"display: none;\"><div style=\"display: table-cell;\"></div><div style=\"display: table-cell;\">x_range_name&nbsp;=&nbsp;'default',</div></div><div class=\"e4413300-fdbc-44ab-9ece-6df5cd415352\" style=\"display: none;\"><div style=\"display: table-cell;\"></div><div style=\"display: table-cell;\">y_range_name&nbsp;=&nbsp;'default')</div></div></div>\n",
       "<script>\n",
       "(function() {\n",
       "  var expanded = false;\n",
       "  var ellipsis = document.getElementById(\"cb2b8742-ffce-4a6e-ad20-2ca3f7399b7e\");\n",
       "  ellipsis.addEventListener(\"click\", function() {\n",
       "    var rows = document.getElementsByClassName(\"e4413300-fdbc-44ab-9ece-6df5cd415352\");\n",
       "    for (var i = 0; i < rows.length; i++) {\n",
       "      var el = rows[i];\n",
       "      el.style.display = expanded ? \"none\" : \"table-row\";\n",
       "    }\n",
       "    ellipsis.innerHTML = expanded ? \"&hellip;)\" : \"&lsaquo;&lsaquo;&lsaquo;\";\n",
       "    expanded = !expanded;\n",
       "  });\n",
       "})();\n",
       "</script>\n"
      ],
      "text/plain": [
       "GlyphRenderer(id='0f03635a-40bc-4be7-8752-463ae6b22073', ...)"
      ]
     },
     "execution_count": 5,
     "metadata": {},
     "output_type": "execute_result"
    }
   ],
   "source": [
    "dot = figure(title=\"For year 2005, unemployment rate for various countries\", tools=\"\", toolbar_location=None,y_range=countries, x_range=[0,50])\n",
    "dot.segment(0, countries, x, countries, line_width=2, line_color=\"green\", )\n",
    "dot.circle(x, countries, size=15, fill_color=\"orange\", line_color=\"green\", line_width=3, )"
   ]
  },
  {
   "cell_type": "code",
   "execution_count": 6,
   "metadata": {
    "collapsed": true
   },
   "outputs": [],
   "source": [
    "output_file(\"single_year.html\", title=\"categorical.py example\")\n",
    "show(row(dot, sizing_mode=\"scale_width\"))  # open a browser"
   ]
  },
  {
   "cell_type": "code",
   "execution_count": null,
   "metadata": {
    "collapsed": true
   },
   "outputs": [],
   "source": []
  }
 ],
 "metadata": {
  "kernelspec": {
   "display_name": "Python 2",
   "language": "python",
   "name": "python2"
  },
  "language_info": {
   "codemirror_mode": {
    "name": "ipython",
    "version": 2
   },
   "file_extension": ".py",
   "mimetype": "text/x-python",
   "name": "python",
   "nbconvert_exporter": "python",
   "pygments_lexer": "ipython2",
   "version": "2.7.6"
  }
 },
 "nbformat": 4,
 "nbformat_minor": 2
}
