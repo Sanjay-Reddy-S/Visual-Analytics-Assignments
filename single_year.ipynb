{
 "cells": [
  {
   "cell_type": "code",
   "execution_count": 1,
   "metadata": {
    "collapsed": true
   },
   "outputs": [],
   "source": [
    "from bokeh.layouts import row\n",
    "from bokeh.plotting import figure, show, output_file\n",
    "import pandas as pd"
   ]
  },
  {
   "cell_type": "code",
   "execution_count": 2,
   "metadata": {
    "collapsed": true
   },
   "outputs": [],
   "source": [
    "unemploy_df = pd.read_excel('Untitled spreadsheet.xlsx',na_values=[''])\n",
    "unemploy_df['Total 15-24 unemployment (%)'] = unemploy_df['Total 15-24 unemployment (%)'].astype(str)\n",
    "unemploy_df=unemploy_df.set_index('Total 15-24 unemployment (%)')\n",
    "unemploy_df.columns.name='Countries'\n",
    "Years=list(unemploy_df.index)\n",
    "countries=list(unemploy_df.columns)"
   ]
  },
  {
   "cell_type": "code",
   "execution_count": 3,
   "metadata": {
    "collapsed": true
   },
   "outputs": [],
   "source": [
    "x=[]\n",
    "for i in unemploy_df.iloc[-1]:\n",
    "\tx.append(i)\n",
    "\n",
    "for j in range(len(x)):\n",
    "\tif str(x[j])=='nan':\n",
    "\t\tx[j]=float('nan')\n"
   ]
  },
  {
   "cell_type": "code",
   "execution_count": 4,
   "metadata": {},
   "outputs": [
    {
     "data": {
      "text/html": [
       "<div style=\"display: table;\"><div style=\"display: table-row;\"><div style=\"display: table-cell;\"><b title=\"bokeh.models.renderers.GlyphRenderer\">GlyphRenderer</b>(</div><div style=\"display: table-cell;\">id&nbsp;=&nbsp;'a8a00e00-0d15-4c25-8bfb-ab9b73f9a7bd', <span id=\"c8782e97-5aae-4f61-8dcf-9ad000965de6\" style=\"cursor: pointer;\">&hellip;)</span></div></div><div class=\"1710e063-065b-4ceb-b50e-b7ec2a313e00\" style=\"display: none;\"><div style=\"display: table-cell;\"></div><div style=\"display: table-cell;\">data_source&nbsp;=&nbsp;ColumnDataSource(id='f694d9b7-5be2-498c-a366-3e254aba4361', ...),</div></div><div class=\"1710e063-065b-4ceb-b50e-b7ec2a313e00\" style=\"display: none;\"><div style=\"display: table-cell;\"></div><div style=\"display: table-cell;\">glyph&nbsp;=&nbsp;Circle(id='1fdba885-515a-466f-8871-970f6b1ac44d', ...),</div></div><div class=\"1710e063-065b-4ceb-b50e-b7ec2a313e00\" style=\"display: none;\"><div style=\"display: table-cell;\"></div><div style=\"display: table-cell;\">hover_glyph&nbsp;=&nbsp;None,</div></div><div class=\"1710e063-065b-4ceb-b50e-b7ec2a313e00\" style=\"display: none;\"><div style=\"display: table-cell;\"></div><div style=\"display: table-cell;\">js_event_callbacks&nbsp;=&nbsp;{},</div></div><div class=\"1710e063-065b-4ceb-b50e-b7ec2a313e00\" style=\"display: none;\"><div style=\"display: table-cell;\"></div><div style=\"display: table-cell;\">js_property_callbacks&nbsp;=&nbsp;{},</div></div><div class=\"1710e063-065b-4ceb-b50e-b7ec2a313e00\" style=\"display: none;\"><div style=\"display: table-cell;\"></div><div style=\"display: table-cell;\">level&nbsp;=&nbsp;'glyph',</div></div><div class=\"1710e063-065b-4ceb-b50e-b7ec2a313e00\" style=\"display: none;\"><div style=\"display: table-cell;\"></div><div style=\"display: table-cell;\">muted&nbsp;=&nbsp;False,</div></div><div class=\"1710e063-065b-4ceb-b50e-b7ec2a313e00\" style=\"display: none;\"><div style=\"display: table-cell;\"></div><div style=\"display: table-cell;\">muted_glyph&nbsp;=&nbsp;None,</div></div><div class=\"1710e063-065b-4ceb-b50e-b7ec2a313e00\" style=\"display: none;\"><div style=\"display: table-cell;\"></div><div style=\"display: table-cell;\">name&nbsp;=&nbsp;None,</div></div><div class=\"1710e063-065b-4ceb-b50e-b7ec2a313e00\" style=\"display: none;\"><div style=\"display: table-cell;\"></div><div style=\"display: table-cell;\">nonselection_glyph&nbsp;=&nbsp;Circle(id='931235bd-4eb2-4f01-a94a-49af91e7514e', ...),</div></div><div class=\"1710e063-065b-4ceb-b50e-b7ec2a313e00\" style=\"display: none;\"><div style=\"display: table-cell;\"></div><div style=\"display: table-cell;\">selection_glyph&nbsp;=&nbsp;None,</div></div><div class=\"1710e063-065b-4ceb-b50e-b7ec2a313e00\" style=\"display: none;\"><div style=\"display: table-cell;\"></div><div style=\"display: table-cell;\">subscribed_events&nbsp;=&nbsp;[],</div></div><div class=\"1710e063-065b-4ceb-b50e-b7ec2a313e00\" style=\"display: none;\"><div style=\"display: table-cell;\"></div><div style=\"display: table-cell;\">tags&nbsp;=&nbsp;[],</div></div><div class=\"1710e063-065b-4ceb-b50e-b7ec2a313e00\" style=\"display: none;\"><div style=\"display: table-cell;\"></div><div style=\"display: table-cell;\">view&nbsp;=&nbsp;CDSView(id='2222ffd3-2ffb-4d7e-bc3c-3778fc1d1146', ...),</div></div><div class=\"1710e063-065b-4ceb-b50e-b7ec2a313e00\" style=\"display: none;\"><div style=\"display: table-cell;\"></div><div style=\"display: table-cell;\">visible&nbsp;=&nbsp;True,</div></div><div class=\"1710e063-065b-4ceb-b50e-b7ec2a313e00\" style=\"display: none;\"><div style=\"display: table-cell;\"></div><div style=\"display: table-cell;\">x_range_name&nbsp;=&nbsp;'default',</div></div><div class=\"1710e063-065b-4ceb-b50e-b7ec2a313e00\" style=\"display: none;\"><div style=\"display: table-cell;\"></div><div style=\"display: table-cell;\">y_range_name&nbsp;=&nbsp;'default')</div></div></div>\n",
       "<script>\n",
       "(function() {\n",
       "  var expanded = false;\n",
       "  var ellipsis = document.getElementById(\"c8782e97-5aae-4f61-8dcf-9ad000965de6\");\n",
       "  ellipsis.addEventListener(\"click\", function() {\n",
       "    var rows = document.getElementsByClassName(\"1710e063-065b-4ceb-b50e-b7ec2a313e00\");\n",
       "    for (var i = 0; i < rows.length; i++) {\n",
       "      var el = rows[i];\n",
       "      el.style.display = expanded ? \"none\" : \"table-row\";\n",
       "    }\n",
       "    ellipsis.innerHTML = expanded ? \"&hellip;)\" : \"&lsaquo;&lsaquo;&lsaquo;\";\n",
       "    expanded = !expanded;\n",
       "  });\n",
       "})();\n",
       "</script>\n"
      ],
      "text/plain": [
       "GlyphRenderer(id='a8a00e00-0d15-4c25-8bfb-ab9b73f9a7bd', ...)"
      ]
     },
     "execution_count": 4,
     "metadata": {},
     "output_type": "execute_result"
    }
   ],
   "source": [
    "\n",
    "dot = figure(title=\"For year 2005, unemployment rate for various countries\", tools=\"\", toolbar_location=None,y_range=countries, x_range=[0,50])\n",
    "dot.segment(0, countries, x, countries, line_width=2, line_color=\"green\", )\n",
    "dot.circle(x, countries, size=15, fill_color=\"orange\", line_color=\"green\", line_width=3, )\n"
   ]
  },
  {
   "cell_type": "code",
   "execution_count": 5,
   "metadata": {
    "collapsed": true
   },
   "outputs": [],
   "source": [
    "output_file(\"single_year.html\", title=\"categorical.py example\")\n",
    "show(row(dot, sizing_mode=\"scale_width\"))  # open a browser"
   ]
  },
  {
   "cell_type": "code",
   "execution_count": null,
   "metadata": {
    "collapsed": true
   },
   "outputs": [],
   "source": []
  }
 ],
 "metadata": {
  "kernelspec": {
   "display_name": "Python 3",
   "language": "python",
   "name": "python3"
  },
  "language_info": {
   "codemirror_mode": {
    "name": "ipython",
    "version": 3
   },
   "file_extension": ".py",
   "mimetype": "text/x-python",
   "name": "python",
   "nbconvert_exporter": "python",
   "pygments_lexer": "ipython3",
   "version": "3.4.0"
  }
 },
 "nbformat": 4,
 "nbformat_minor": 2
}
