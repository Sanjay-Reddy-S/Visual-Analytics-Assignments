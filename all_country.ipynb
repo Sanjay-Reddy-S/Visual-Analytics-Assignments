{
 "cells": [
  {
   "cell_type": "code",
   "execution_count": 1,
   "metadata": {
    "collapsed": true
   },
   "outputs": [],
   "source": [
    "import random\n",
    "import pandas as pd\n",
    "from bokeh.layouts import column\n",
    "from bokeh.plotting import figure, output_file, show\n",
    "from bokeh.models import HoverTool,ColumnDataSource\n",
    "from bokeh.models.callbacks import CustomJS\n",
    "from bokeh.layouts import widgetbox,layout\n",
    "from bokeh.models.widgets import Panel,Tabs,Dropdown"
   ]
  },
  {
   "cell_type": "code",
   "execution_count": 2,
   "metadata": {
    "collapsed": true
   },
   "outputs": [],
   "source": [
    "unemploy_df = pd.read_excel('indicator_t 15-24 unemploy.xlsx',na_values=[''])\n",
    "\n",
    "year_range=[i for i in range(1981,2006)]"
   ]
  },
  {
   "cell_type": "code",
   "execution_count": 3,
   "metadata": {
    "collapsed": true
   },
   "outputs": [],
   "source": [
    "country_wise=[]\n",
    "country_names=[]\n",
    "for i in range(0,unemploy_df.shape[0]):\n",
    "    country_wise.append(unemploy_df.iloc[i])\n",
    "\n",
    "for i in range(0,unemploy_df.shape[0]):\n",
    "    country_names.append(country_wise[i][0:1][0])\n",
    "\n",
    "for i in range(len(country_wise)):\n",
    "    country_wise[i]=[x for x in country_wise[i][1:]]\n",
    "    for j in range(len(country_wise[i])):\n",
    "        if str(country_wise[i][j])=='nan':\n",
    "            country_wise[i][j]=float('nan')\n"
   ]
  },
  {
   "cell_type": "code",
   "execution_count": 4,
   "metadata": {
    "collapsed": true
   },
   "outputs": [],
   "source": [
    "output_file(\"all_country3.html\")\n",
    "hover=HoverTool(tooltips=[(\"index\",\"$index\"),(\"(x,y)\",\"($x,$y)\")])\n",
    "p = figure(plot_width=1000, plot_height=800,tools=[hover,'pan','wheel_zoom','box_zoom','box_select'],title=\"Unemployed people within age 15-24 within various countries (Legends can be hid when clicked)\",x_axis_label=\"Year...\",y_axis_label=\"% of population unemployed\")"
   ]
  },
  {
   "cell_type": "code",
   "execution_count": 5,
   "metadata": {
    "collapsed": true
   },
   "outputs": [],
   "source": [
    "for i in range(len(country_wise)):\n",
    "    #p.line(x,country_wise[i],line_width=2,legend=country_names[i])\n",
    "    color=(random.randrange(0,256),random.randrange(0,256),random.randrange(0,256))\n",
    "    p.line(year_range,country_wise[i][:],color=color,legend=country_names[i],line_width=2)\n",
    "p.legend.click_policy=\"hide\"\n",
    "tab1=Panel(child=p,title=\"All countries\")"
   ]
  },
  {
   "cell_type": "code",
   "execution_count": 6,
   "metadata": {
    "collapsed": true
   },
   "outputs": [],
   "source": [
    "p2=figure(plot_width=300, plot_height=300,tools=[hover,'pan','wheel_zoom','box_zoom','box_select'], title=\"Australia unemployment over years\",x_axis_label=\"Year...\",y_axis_label=\"% of population unemployed\")\n",
    "p2.line(year_range, country_wise[0][:],color=(255,0,0),legend=\"Australia\",line_width=2)\n",
    "tab2=Panel(child=p2, title=\"Australia over years\")"
   ]
  },
  {
   "cell_type": "code",
   "execution_count": 7,
   "metadata": {
    "collapsed": true
   },
   "outputs": [],
   "source": [
    "tabs=Tabs(tabs=[tab1,tab2])\n",
    "\n",
    "show(tabs)"
   ]
  },
  {
   "cell_type": "code",
   "execution_count": null,
   "metadata": {
    "collapsed": true
   },
   "outputs": [],
   "source": []
  }
 ],
 "metadata": {
  "kernelspec": {
   "display_name": "Python 3",
   "language": "python",
   "name": "python3"
  },
  "language_info": {
   "codemirror_mode": {
    "name": "ipython",
    "version": 3
   },
   "file_extension": ".py",
   "mimetype": "text/x-python",
   "name": "python",
   "nbconvert_exporter": "python",
   "pygments_lexer": "ipython3",
   "version": "3.4.0"
  }
 },
 "nbformat": 4,
 "nbformat_minor": 2
}
