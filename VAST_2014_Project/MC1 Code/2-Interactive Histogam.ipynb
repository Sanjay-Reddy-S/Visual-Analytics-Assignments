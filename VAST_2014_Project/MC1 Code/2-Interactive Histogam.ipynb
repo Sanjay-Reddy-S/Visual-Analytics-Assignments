{
 "cells": [
  {
   "cell_type": "markdown",
   "metadata": {},
   "source": [
    "# Interactive Histogram\n",
    "\n",
    "By:\n",
    " - Aditya Agrawal (adityaagrawa@cs.umass.edu) \n",
    " - Sanjay Reddy S (ssatti@umass.edu)"
   ]
  },
  {
   "cell_type": "markdown",
   "metadata": {},
   "source": [
    "#### Works on Python 3\n",
    "\n",
    "This file presents the code and the plot for visualizing 'n' number of entities present in our text, ranging amongst 'n' types of entities, both of which can be interactively selected and viewed. NER_dict.pkl should be in the same directory as this IPython file.\n"
   ]
  },
  {
   "cell_type": "markdown",
   "metadata": {},
   "source": [
    "### Loading Libraries"
   ]
  },
  {
   "cell_type": "code",
   "execution_count": 5,
   "metadata": {
    "scrolled": false
   },
   "outputs": [
    {
     "name": "stdout",
     "output_type": "stream",
     "text": [
      "The autoreload extension is already loaded. To reload it, use:\n",
      "  %reload_ext autoreload\n"
     ]
    },
    {
     "data": {
      "text/html": [
       "\n",
       "    <div class=\"bk-root\">\n",
       "        <a href=\"https://bokeh.pydata.org\" target=\"_blank\" class=\"bk-logo bk-logo-small bk-logo-notebook\"></a>\n",
       "        <span id=\"dab3be21-8884-445f-8812-ba124c7e8f9d\">Loading BokehJS ...</span>\n",
       "    </div>"
      ]
     },
     "metadata": {},
     "output_type": "display_data"
    },
    {
     "data": {
      "application/javascript": [
       "\n",
       "(function(root) {\n",
       "  function now() {\n",
       "    return new Date();\n",
       "  }\n",
       "\n",
       "  var force = true;\n",
       "\n",
       "  if (typeof (root._bokeh_onload_callbacks) === \"undefined\" || force === true) {\n",
       "    root._bokeh_onload_callbacks = [];\n",
       "    root._bokeh_is_loading = undefined;\n",
       "  }\n",
       "\n",
       "\n",
       "  \n",
       "  if (typeof (root._bokeh_timeout) === \"undefined\" || force === true) {\n",
       "    root._bokeh_timeout = Date.now() + 5000;\n",
       "    root._bokeh_failed_load = false;\n",
       "  }\n",
       "\n",
       "  var NB_LOAD_WARNING = {'data': {'text/html':\n",
       "     \"<div style='background-color: #fdd'>\\n\"+\n",
       "     \"<p>\\n\"+\n",
       "     \"BokehJS does not appear to have successfully loaded. If loading BokehJS from CDN, this \\n\"+\n",
       "     \"may be due to a slow or bad network connection. Possible fixes:\\n\"+\n",
       "     \"</p>\\n\"+\n",
       "     \"<ul>\\n\"+\n",
       "     \"<li>re-rerun `output_notebook()` to attempt to load from CDN again, or</li>\\n\"+\n",
       "     \"<li>use INLINE resources instead, as so:</li>\\n\"+\n",
       "     \"</ul>\\n\"+\n",
       "     \"<code>\\n\"+\n",
       "     \"from bokeh.resources import INLINE\\n\"+\n",
       "     \"output_notebook(resources=INLINE)\\n\"+\n",
       "     \"</code>\\n\"+\n",
       "     \"</div>\"}};\n",
       "\n",
       "  function display_loaded() {\n",
       "    if (root.Bokeh !== undefined) {\n",
       "      var el = document.getElementById(\"dab3be21-8884-445f-8812-ba124c7e8f9d\");\n",
       "      if (el != null) {\n",
       "        el.textContent = \"BokehJS \" + Bokeh.version + \" successfully loaded.\";\n",
       "      }\n",
       "    } else if (Date.now() < root._bokeh_timeout) {\n",
       "      setTimeout(display_loaded, 100)\n",
       "    }\n",
       "  }\n",
       "\n",
       "\n",
       "  function run_callbacks() {\n",
       "    try {\n",
       "      root._bokeh_onload_callbacks.forEach(function(callback) { callback() });\n",
       "    }\n",
       "    finally {\n",
       "      delete root._bokeh_onload_callbacks\n",
       "    }\n",
       "    console.info(\"Bokeh: all callbacks have finished\");\n",
       "  }\n",
       "\n",
       "  function load_libs(js_urls, callback) {\n",
       "    root._bokeh_onload_callbacks.push(callback);\n",
       "    if (root._bokeh_is_loading > 0) {\n",
       "      console.log(\"Bokeh: BokehJS is being loaded, scheduling callback at\", now());\n",
       "      return null;\n",
       "    }\n",
       "    if (js_urls == null || js_urls.length === 0) {\n",
       "      run_callbacks();\n",
       "      return null;\n",
       "    }\n",
       "    console.log(\"Bokeh: BokehJS not loaded, scheduling load and callback at\", now());\n",
       "    root._bokeh_is_loading = js_urls.length;\n",
       "    for (var i = 0; i < js_urls.length; i++) {\n",
       "      var url = js_urls[i];\n",
       "      var s = document.createElement('script');\n",
       "      s.src = url;\n",
       "      s.async = false;\n",
       "      s.onreadystatechange = s.onload = function() {\n",
       "        root._bokeh_is_loading--;\n",
       "        if (root._bokeh_is_loading === 0) {\n",
       "          console.log(\"Bokeh: all BokehJS libraries loaded\");\n",
       "          run_callbacks()\n",
       "        }\n",
       "      };\n",
       "      s.onerror = function() {\n",
       "        console.warn(\"failed to load library \" + url);\n",
       "      };\n",
       "      console.log(\"Bokeh: injecting script tag for BokehJS library: \", url);\n",
       "      document.getElementsByTagName(\"head\")[0].appendChild(s);\n",
       "    }\n",
       "  };var element = document.getElementById(\"dab3be21-8884-445f-8812-ba124c7e8f9d\");\n",
       "  if (element == null) {\n",
       "    console.log(\"Bokeh: ERROR: autoload.js configured with elementid 'dab3be21-8884-445f-8812-ba124c7e8f9d' but no matching script tag was found. \")\n",
       "    return false;\n",
       "  }\n",
       "\n",
       "  var js_urls = [\"https://cdn.pydata.org/bokeh/release/bokeh-0.12.7.min.js\", \"https://cdn.pydata.org/bokeh/release/bokeh-widgets-0.12.7.min.js\", \"https://cdn.pydata.org/bokeh/release/bokeh-tables-0.12.7.min.js\", \"https://cdn.pydata.org/bokeh/release/bokeh-gl-0.12.7.min.js\"];\n",
       "\n",
       "  var inline_js = [\n",
       "    function(Bokeh) {\n",
       "      Bokeh.set_log_level(\"info\");\n",
       "    },\n",
       "    \n",
       "    function(Bokeh) {\n",
       "      \n",
       "    },\n",
       "    \n",
       "    function(Bokeh) {\n",
       "      \n",
       "      document.getElementById(\"dab3be21-8884-445f-8812-ba124c7e8f9d\").textContent = \"BokehJS is loading...\";\n",
       "    },\n",
       "    function(Bokeh) {\n",
       "      console.log(\"Bokeh: injecting CSS: https://cdn.pydata.org/bokeh/release/bokeh-0.12.7.min.css\");\n",
       "      Bokeh.embed.inject_css(\"https://cdn.pydata.org/bokeh/release/bokeh-0.12.7.min.css\");\n",
       "      console.log(\"Bokeh: injecting CSS: https://cdn.pydata.org/bokeh/release/bokeh-widgets-0.12.7.min.css\");\n",
       "      Bokeh.embed.inject_css(\"https://cdn.pydata.org/bokeh/release/bokeh-widgets-0.12.7.min.css\");\n",
       "      console.log(\"Bokeh: injecting CSS: https://cdn.pydata.org/bokeh/release/bokeh-tables-0.12.7.min.css\");\n",
       "      Bokeh.embed.inject_css(\"https://cdn.pydata.org/bokeh/release/bokeh-tables-0.12.7.min.css\");\n",
       "    }\n",
       "  ];\n",
       "\n",
       "  function run_inline_js() {\n",
       "    \n",
       "    if ((root.Bokeh !== undefined) || (force === true)) {\n",
       "      for (var i = 0; i < inline_js.length; i++) {\n",
       "        inline_js[i].call(root, root.Bokeh);\n",
       "      }if (force === true) {\n",
       "        display_loaded();\n",
       "      }} else if (Date.now() < root._bokeh_timeout) {\n",
       "      setTimeout(run_inline_js, 100);\n",
       "    } else if (!root._bokeh_failed_load) {\n",
       "      console.log(\"Bokeh: BokehJS failed to load within specified timeout.\");\n",
       "      root._bokeh_failed_load = true;\n",
       "    } else if (force !== true) {\n",
       "      var cell = $(document.getElementById(\"dab3be21-8884-445f-8812-ba124c7e8f9d\")).parents('.cell').data().cell;\n",
       "      cell.output_area.append_execute_result(NB_LOAD_WARNING)\n",
       "    }\n",
       "\n",
       "  }\n",
       "\n",
       "  if (root._bokeh_is_loading === 0) {\n",
       "    console.log(\"Bokeh: BokehJS loaded, going straight to plotting\");\n",
       "    run_inline_js();\n",
       "  } else {\n",
       "    load_libs(js_urls, function() {\n",
       "      console.log(\"Bokeh: BokehJS plotting callback run at\", now());\n",
       "      run_inline_js();\n",
       "    });\n",
       "  }\n",
       "}(window));"
      ]
     },
     "metadata": {},
     "output_type": "display_data"
    }
   ],
   "source": [
    "%load_ext autoreload\n",
    "%autoreload 2\n",
    "\n",
    "#Importing Libraries\n",
    "import xml.etree.ElementTree as ET\n",
    "from wordcloud import WordCloud\n",
    "import pickle\n",
    "\n",
    "#NLTK\n",
    "import nltk\n",
    "from nltk import FreqDist\n",
    "from nltk.corpus import stopwords\n",
    "from nltk.tokenize import RegexpTokenizer\n",
    "\n",
    "#Bokeh\n",
    "from bokeh.plotting import figure\n",
    "from bokeh.models import ColumnDataSource\n",
    "from bokeh.layouts import column, row, widgetbox\n",
    "from bokeh.models import HoverTool, Plot\n",
    "from bokeh.palettes import Spectral6\n",
    "from bokeh.io import *\n",
    "from bokeh.models.glyphs import ImageURL\n",
    "from bokeh.models.widgets import Slider\n",
    "from bokeh.application import Application\n",
    "from bokeh.application.handlers import FunctionHandler\n",
    "from bokeh.transform import factor_cmap   \n",
    "from bokeh.models import Select\n",
    "\n",
    "output_notebook()"
   ]
  },
  {
   "cell_type": "markdown",
   "metadata": {},
   "source": [
    "### Loading Saved Data"
   ]
  },
  {
   "cell_type": "code",
   "execution_count": 6,
   "metadata": {
    "collapsed": true
   },
   "outputs": [],
   "source": [
    "with open(r\"NER_dict.pkl\", \"rb\") as input_file:\n",
    "    NER_dict = pickle.load(input_file)"
   ]
  },
  {
   "cell_type": "markdown",
   "metadata": {},
   "source": [
    "\n",
    "Our NER_dict, i.e,- Named_Entity_Recognition_dictionary has been previously generated in the Interative_WordCloud.ipynb file, which takes a really long time to run, thus we have stored it using pickle module locally, for faster loading. Using our NER_dict, which contains a dictionary of types of entities, which are themselves dictionaries mapping the specific named entity to the counts of it's occurences. All the above has been coded in the aforementioned file. Using this visualization we can view our top 'N' entities, of different types, like- top people mentioned, top places mentioned in the text, etc."
   ]
  },
  {
   "cell_type": "markdown",
   "metadata": {},
   "source": [
    "### Plotting Interactive Histogram"
   ]
  },
  {
   "cell_type": "code",
   "execution_count": 16,
   "metadata": {},
   "outputs": [
    {
     "data": {
      "text/html": [
       "<div class='bokeh_class' id='0ffdc7b4a4c0447bb17e3864598b86f6'>\n",
       "<script\n",
       "    src=\"http://localhost:64317/autoload.js?bokeh-autoload-element=1bab788c-50d4-458e-bbe6-a81d33d84e4b&bokeh-app-path=/&bokeh-absolute-url=http://localhost:64317\"\n",
       "    id=\"1bab788c-50d4-458e-bbe6-a81d33d84e4b\"\n",
       "    data-bokeh-model-id=\"\"\n",
       "    data-bokeh-doc-id=\"\"\n",
       "></script></div>"
      ],
      "text/plain": [
       "<IPython.core.display.HTML object>"
      ]
     },
     "metadata": {},
     "output_type": "display_data"
    }
   ],
   "source": [
    "top5 = []\n",
    "counts = []\n",
    "\n",
    "def get_data(n, label = \"GPE\"):\n",
    "    global top5\n",
    "    global counts\n",
    "    global source\n",
    "    top5.clear()\n",
    "    counts.clear()\n",
    "    for name, count in reversed(sorted(NER_dict[label].items(), key=lambda item: (item[1], item[0]))):\n",
    "        if len(top5) < n:\n",
    "            top5.append(name)\n",
    "            counts.append(count)\n",
    "        else:\n",
    "            break\n",
    "    source = ColumnDataSource(data=dict(top5=top5, counts=counts))\n",
    "    \n",
    "get_data(5)\n",
    "source = ColumnDataSource(data=dict(top5=top5, counts=counts))\n",
    "\n",
    "def modify_doc2(doc):\n",
    "    def create_figure():\n",
    "        t1, t2 = ticker1.value, ticker2.value\n",
    "        get_data(int(t1),t2)\n",
    "        global top5\n",
    "        global source\n",
    "        p = figure(x_range=top5, plot_height=550, plot_width = 150*len(top5), \n",
    "                   title=\" Top N Occurences of Entites after NER Tagging\")\n",
    "\n",
    "        p.vbar(x='top5', top='counts', width=0.7, source=source, legend=\"top5\",\n",
    "               line_color='white', fill_color=factor_cmap('top5', palette=Spectral6*10, factors=top5))\n",
    "        p.xgrid.grid_line_color = None\n",
    "        p.y_range.start = 0\n",
    "        p.legend.orientation = \"horizontal\"\n",
    "        p.legend.location = \"top_center\"\n",
    "        return p\n",
    "\n",
    "    #Setting Up Widgets\n",
    "    ticker1 = Select(value= '10', options=['5','10','15','20','25','50'], \n",
    "                                                                 title = \"Number of Entities\")\n",
    "    ticker2 = Select(value= 'PERSON', \n",
    "        options=['GPE', 'ORGANIZATION', 'PERSON', 'FACILITY', 'GSP', 'LOCATION'], \n",
    "                                                                        title = \"Entity Type\")\n",
    "    # Set up layouts and add to document\n",
    "    layout = column(row(ticker1, ticker2), create_figure())\n",
    "    \n",
    "    # Set up callbacks\n",
    "    def ticker1_change(attrname, old, new):\n",
    "        layout.children[1] = create_figure()\n",
    "\n",
    "    def ticker2_change(attrname, old, new):\n",
    "        layout.children[1] = create_figure()\n",
    "\n",
    "    ticker1.on_change('value', ticker1_change)\n",
    "    ticker2.on_change('value', ticker2_change)\n",
    "    doc.add_root(layout)\n",
    "\n",
    "handler1 = FunctionHandler(modify_doc2)\n",
    "app1 = Application(handler1)\n",
    "show(app1, notebook_url = \"localhost:8888\")"
   ]
  },
  {
   "cell_type": "code",
   "execution_count": null,
   "metadata": {
    "collapsed": true
   },
   "outputs": [],
   "source": []
  }
 ],
 "metadata": {
  "kernelspec": {
   "display_name": "Python 3",
   "language": "python",
   "name": "python3"
  },
  "language_info": {
   "codemirror_mode": {
    "name": "ipython",
    "version": 3
   },
   "file_extension": ".py",
   "mimetype": "text/x-python",
   "name": "python",
   "nbconvert_exporter": "python",
   "pygments_lexer": "ipython3",
   "version": "3.6.1"
  }
 },
 "nbformat": 4,
 "nbformat_minor": 2
}
